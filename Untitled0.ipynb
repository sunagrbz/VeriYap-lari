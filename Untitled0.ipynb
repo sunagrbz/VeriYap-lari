{
  "nbformat": 4,
  "nbformat_minor": 0,
  "metadata": {
    "colab": {
      "provenance": []
    },
    "kernelspec": {
      "name": "python3",
      "display_name": "Python 3"
    },
    "language_info": {
      "name": "python"
    }
  },
  "cells": [
    {
      "cell_type": "code",
      "execution_count": 3,
      "metadata": {
        "colab": {
          "base_uri": "https://localhost:8080/"
        },
        "id": "ZPK0Yk3q2sAI",
        "outputId": "ec7c3f20-82cd-4459-d780-985e0d00fb49"
      },
      "outputs": [
        {
          "output_type": "stream",
          "name": "stdout",
          "text": [
            "Merhaba Dünya \n"
          ]
        }
      ],
      "source": [
        "print(\"Merhaba Dünya \") # Çıktı veren bir koddur."
      ]
    },
    {
      "cell_type": "markdown",
      "source": [
        "Phyton programlama dilinde print komutu ekrandan kullanıcıya bilgi veren bir koddur.\n",
        "\n",
        "\n",
        "Veri yapıları ve Algoritmalar dersi ilk kodlama çıktısıdr. İGÜ İSTKA SİBER AKADEMİ MERKEZİ-- 19.08.2024"
      ],
      "metadata": {
        "id": "lHJOjA_n6zcB"
      }
    },
    {
      "cell_type": "code",
      "source": [
        "print(\"Merhaba İSTKA \")"
      ],
      "metadata": {
        "colab": {
          "base_uri": "https://localhost:8080/"
        },
        "id": "tCTk2SXe7OjR",
        "outputId": "497d44b8-878f-4511-ca96-e7751ebcff5b"
      },
      "execution_count": 6,
      "outputs": [
        {
          "output_type": "stream",
          "name": "stdout",
          "text": [
            "Merhaba İSTKA \n"
          ]
        }
      ]
    },
    {
      "cell_type": "code",
      "source": [
        "import sys #İmport phyton programlama dilinde yazılım kütüphane eklemeye yarayan bir kod parçasıdır.\n",
        "print(sys.version)"
      ],
      "metadata": {
        "colab": {
          "base_uri": "https://localhost:8080/"
        },
        "id": "emJAEAh14_yR",
        "outputId": "fbbf9c3f-fdba-4479-fa5f-29aae2bb1d79"
      },
      "execution_count": 5,
      "outputs": [
        {
          "output_type": "stream",
          "name": "stdout",
          "text": [
            "3.10.12 (main, Jul 29 2024, 16:56:48) [GCC 11.4.0]\n"
          ]
        }
      ]
    },
    {
      "source": [
        "from google.colab import drive #google colab -drive bağlantısıdır.\n",
        "drive.mount('/content/drive')"
      ],
      "cell_type": "code",
      "metadata": {
        "colab": {
          "base_uri": "https://localhost:8080/"
        },
        "id": "ra8S7U498eDR",
        "outputId": "f8e80b5b-4073-4a57-ee03-d92d805c7017"
      },
      "execution_count": 17,
      "outputs": [
        {
          "output_type": "stream",
          "name": "stdout",
          "text": [
            "Drive already mounted at /content/drive; to attempt to forcibly remount, call drive.mount(\"/content/drive\", force_remount=True).\n"
          ]
        }
      ]
    },
    {
      "source": [
        "import os\n",
        "os.chdir('/content/drive/My Drive/VERIYAPILARI_ISTKA')"
      ],
      "cell_type": "code",
      "metadata": {
        "id": "nnRxw9fA-wUp"
      },
      "execution_count": 29,
      "outputs": []
    }
  ]
}